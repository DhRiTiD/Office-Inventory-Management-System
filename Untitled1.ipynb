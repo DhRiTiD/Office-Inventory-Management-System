{
  "nbformat": 4,
  "nbformat_minor": 0,
  "metadata": {
    "colab": {
      "provenance": [],
      "authorship_tag": "ABX9TyMNM9k/yGonnyzGryLRLr93",
      "include_colab_link": true
    },
    "kernelspec": {
      "name": "python3",
      "display_name": "Python 3"
    },
    "language_info": {
      "name": "python"
    }
  },
  "cells": [
    {
      "cell_type": "markdown",
      "metadata": {
        "id": "view-in-github",
        "colab_type": "text"
      },
      "source": [
        "<a href=\"https://colab.research.google.com/github/DhRiTiD/Office-Inventory-Management-System/blob/main/Untitled1.ipynb\" target=\"_parent\"><img src=\"https://colab.research.google.com/assets/colab-badge.svg\" alt=\"Open In Colab\"/></a>"
      ]
    },
    {
      "cell_type": "code",
      "execution_count": null,
      "metadata": {
        "id": "oU6S5sYRhJ-e"
      },
      "outputs": [],
      "source": [
        "from google.colab import files\n",
        "data = files.upload()"
      ]
    },
    {
      "cell_type": "code",
      "source": [
        "import csv\n",
        "import time\n",
        "\n",
        "lst =  []\n",
        "\n",
        "with open('product_details_dd - Sheet1 (1).csv') as f:\n",
        "    reader = csv.DictReader(f)\n",
        "    \n",
        "    for row in reader:\n",
        "        print(row)\n",
        "        lst.append(row)\n",
        "\n",
        "print(lst)"
      ],
      "metadata": {
        "id": "Ec3efs2bsMNu"
      },
      "execution_count": null,
      "outputs": []
    },
    {
      "cell_type": "code",
      "source": [
        "def list_o_products():\n",
        "  print()\n",
        "  print('PRODUCT NAME')\n",
        "\n",
        "  for i in lst:\n",
        "    print(i['Serial no'], '.', i['Product_name'])\n",
        "\n",
        "  main_menu()\n"
      ],
      "metadata": {
        "id": "WbEFeJc5FXz6"
      },
      "execution_count": 136,
      "outputs": []
    },
    {
      "cell_type": "code",
      "source": [
        "def print_details(sl_no):\n",
        "  for i in lst:\n",
        "    if i['Serial no'] == sl_no:\n",
        "      pro_sl_no = sl_no\n",
        "      pro_name = i['Product_name']\n",
        "      pro_stock = i['Stock']\n",
        "      pro_rol = i['Reorder_level']\n",
        "      pro_order = i['Order']\n",
        "      print(f'Product Serial Number: {sl_no}')\n",
        "      time.sleep(1)\n",
        "      print(f'Product Name: {pro_name}')\n",
        "      time.sleep(1)\n",
        "      print(f'Product Stock available: {pro_stock}')\n",
        "      time.sleep(1)\n",
        "      print(f'Product Reorder level [ROL]: {pro_rol}')\n",
        "      time.sleep(1)\n",
        "      print(f'Number of this product to be added to the inventory to fulfill the ROL: {pro_order}')\n",
        "      \n",
        "      time.sleep(1.2)\n",
        "      main_menu()\n"
      ],
      "metadata": {
        "id": "bF5P5GwRIdzJ"
      },
      "execution_count": 142,
      "outputs": []
    },
    {
      "cell_type": "code",
      "source": [
        "def find_product():\n",
        "  num = input('Enter serial number of the product from the above list: ')\n",
        "\n",
        "  for i in lst:\n",
        "    if i['Serial no'] == num:\n",
        "      name = i['Product_name']\n",
        "      print('Product with the name', name, 'found! Printing details...')\n",
        "      time.sleep(2)\n",
        "      print_details(i['Serial no'])\n",
        "      break\n",
        "  else:\n",
        "    print('Sorry! any product with the serial number', num, 'was not found in our database..')\n",
        "    print('To search again press .S. or to return to the Main Menu, press .M.')\n",
        "    s = input('enter choice :')\n",
        "    if s == 'S' or s == 's':\n",
        "      find_product()\n",
        "    else : \n",
        "      main_menu()\n"
      ],
      "metadata": {
        "id": "DjZC6RpT9eWX"
      },
      "execution_count": 141,
      "outputs": []
    },
    {
      "cell_type": "code",
      "source": [
        "def check(key):\n",
        "  \n",
        "    if key == 'L':\n",
        "      list_o_products(lst)\n",
        "    elif key == 'S':  \n",
        "      find_product(lst)\n",
        "    elif key == 'E':\n",
        "      pass\n",
        "      #edit_stock()\n",
        "    elif key == 'P':\n",
        "      pass\n",
        "      # add_products()\n",
        "    elif key == 'R':\n",
        "      pass\n",
        "      # view_rol()\n",
        "    elif key == 'O':\n",
        "      pass\n",
        "      # view_order()\n",
        "    elif key == 'A':\n",
        "      pass\n",
        "    \n",
        "    elif key == '' or key == ' ':\n",
        "      print('please enter a valid choice')\n",
        "      key = ''\n",
        "      key = input('Enter your choice : ')\n",
        "      key.upper()\n",
        "      check(key)\n",
        "      \n",
        "    else :\n",
        "      print('please enter a valid choice')\n",
        "      key = ''\n",
        "      key = input('Enter your choice : ')\n",
        "      key.upper()\n",
        "      check(key)"
      ],
      "metadata": {
        "id": "ME2wG02tj2A3"
      },
      "execution_count": null,
      "outputs": []
    },
    {
      "cell_type": "code",
      "source": [
        "def main_menu():\n",
        "  print('--======KEY WORDS======--')\n",
        "  print('To see the list of products----                     : L')\n",
        "  time.sleep(0.8)\n",
        "  print('To search for a product using its serial number     : S')\n",
        "  time.sleep(0.8)\n",
        "  print('To edit the stock--------------                     : E') # opt to display and edit the ROL and display order amt\n",
        "  time.sleep(0.8)\n",
        "  print('To add products----------------                     : P') # ordr num to be calculated\n",
        "  time.sleep(0.8)\n",
        "  print('To check Reorder level of all products              : R')\n",
        "  time.sleep(1)\n",
        "  print('To check number of all products to be ordered       : O')\n",
        "  time.sleep(0.8)\n",
        "  print('To order all the required products from the seller  : A') # sends email # asks email once and saves forever\n",
        "\n",
        "  key = input('Enter your choice : ')\n",
        "  key.upper()  \n",
        "\n",
        "  check(key)\n",
        "\n",
        "  while len(key) == 0:\n",
        "      key = input('Enter your choice : ')\n",
        "      key.upper()\n",
        "\n"
      ],
      "metadata": {
        "colab": {
          "base_uri": "https://localhost:8080/",
          "height": 130
        },
        "id": "Pq6n_ALRgB3Y",
        "outputId": "df2380df-5095-4d15-e4f8-57dc1c4c9710"
      },
      "execution_count": 147,
      "outputs": [
        {
          "output_type": "error",
          "ename": "SyntaxError",
          "evalue": "ignored",
          "traceback": [
            "\u001b[0;36m  File \u001b[0;32m\"<ipython-input-147-4af3706d3e09>\"\u001b[0;36m, line \u001b[0;32m19\u001b[0m\n\u001b[0;31m    elif len(key) != 0:\u001b[0m\n\u001b[0m    ^\u001b[0m\n\u001b[0;31mSyntaxError\u001b[0m\u001b[0;31m:\u001b[0m invalid syntax\n"
          ]
        }
      ]
    },
    {
      "cell_type": "code",
      "source": [
        "main_menu()"
      ],
      "metadata": {
        "colab": {
          "base_uri": "https://localhost:8080/"
        },
        "id": "7I6DDhnOhp7A",
        "outputId": "39f1f1b7-00aa-4586-f9fb-a4b60aaf9e48"
      },
      "execution_count": 146,
      "outputs": [
        {
          "name": "stdout",
          "output_type": "stream",
          "text": [
            "--======KEY WORDS======--\n",
            "To see the list of products----                     : L\n",
            "To search for a product using its serial number     : S\n",
            "To edit the stock--------------                     : E\n",
            "To add products----------------                     : P\n",
            "To check Reorder level of all products              : R\n",
            "To check number of all products to be ordered       : O\n",
            "To order all the required products from the seller  : A\n",
            "Enter your choice : l\n"
          ]
        }
      ]
    }
  ]
}