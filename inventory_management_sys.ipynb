{
  "cells": [
    {
      "cell_type": "markdown",
      "metadata": {
        "id": "view-in-github",
        "colab_type": "text"
      },
      "source": [
        "<a href=\"https://colab.research.google.com/github/DhRiTiD/Office-Inventory-Management-System/blob/ongoing/inventory_management_sys.ipynb\" target=\"_parent\"><img src=\"https://colab.research.google.com/assets/colab-badge.svg\" alt=\"Open In Colab\"/></a>"
      ]
    },
    {
      "cell_type": "markdown",
      "source": [
        "# **The Inventory Management System** - Introduction\n",
        "## Created by: Dhriti Dhall, XII A, 3\n",
        "Find me here: [![image.png](data:image/png;base64,iVBORw0KGgoAAAANSUhEUgAAABgAAAAYCAYAAADgdz34AAAB2UlEQVRIDa2V25KCMBBEo6iUD/7/p4oXYOvMctgpTEUeNlUYnHT3TE8ClHkzXq/XGhnHcS6lNC8wjsw1VrgZhsH/M6Dj8TifTqeYvyXI2JxAzUiA+vP5nN/vd1R7uVyaVdeSykEDLUckMEA1XdeFOA5qQrWYWLhoWDDz6gDi+XwO0cPhsFvchHLUWB3kjaQSrVKJJEVqMxiwrMHVDf9Dm0zX63WtOFfgntSEjYGJVqQOsIZmxM1OsO/7SEQSiNM0Baj1AwashamB3qL9d84JmDCf71YC1mxz5uuw5D7ne4l7xMEomDWW+08HEB6PxzftdV1s1QGZzeosc+8eiK9plVpQwr8lsH9aJIG2TdaaxcpXL2bbkp1wz9hzksQoWtH73GTAEluVu9Y8ptvK86POfX4Fuyc+vSTY4j+cIMBbEGu1Nyl9haQoSajYuIImylpoR7MFMQMwkY8/cUZ2QIx1MZmnHpxg8j0A4HuE6qgIV1z8pxpPC4ncTGawOkIDLb8xv6UtXzQrtwJmiIKp6H6/hxvWbEvGZ/HVgf2lQirgvU5lOSEYTxYOXGMGCweuLtUs9lUy1VIRJC4c3G63EM9OTCAOjutqoR0tMhDelx+I2XpeC+upRWC3Q80fI3Qnqst0IG4AAAAASUVORK5CYII=)](https://github.com/DhRiTiD)"
      ],
      "metadata": {
        "id": "ocrxQ9DX0VSS"
      }
    },
    {
      "cell_type": "markdown",
      "source": [
        "---\n",
        "\n",
        "#### **The Inventory Management System**, designed specially to keep track of stocks of hundreds of items in a wholesale/retail shop.\n",
        "\n",
        "The example taken by me here is of a Stationery and Art Emporium in Moradabad, called **Bharat Trading Company** (est. 2003). The owner wishes to make his stocking system easier with the help of a software application that would be helpful in keeping track of stocks, orders, requirements etc.\n",
        "His daughter, a computer enthusiast, decides to help him by building a small python program that would solve the isuue faced by her father.\n",
        "\n",
        "---"
      ],
      "metadata": {
        "id": "7SsvuJZxgYpO"
      }
    },
    {
      "cell_type": "markdown",
      "source": [
        "# **#1 Uploading the file/data**\n",
        "\n",
        "  - Our data can be provided in form of an excel worksheet, which is most commonly used for working with stocks, however for simplicity, we're going to use CSV format of the excel worksheet to store large data of all the products.\n",
        "\n",
        "  - Starting small, our csv file named '`product_details_dd - Sheet1.csv`' contains about 15 items."
      ],
      "metadata": {
        "id": "ZTgBIR6Bl4ec"
      }
    },
    {
      "cell_type": "markdown",
      "source": [
        "notes:\n",
        "- add category later to classify each product to make search easier\n",
        "- `pandas` module is being used only for the display of data due to its clear display with the help of `tabulate` module."
      ],
      "metadata": {
        "id": "Nd6mUYy4neVJ"
      }
    },
    {
      "cell_type": "code",
      "execution_count": 103,
      "metadata": {
        "colab": {
          "base_uri": "https://localhost:8080/",
          "height": 73
        },
        "id": "oU6S5sYRhJ-e",
        "outputId": "751d64a1-6494-474f-b90e-374c113b29e6"
      },
      "outputs": [
        {
          "output_type": "display_data",
          "data": {
            "text/plain": [
              "<IPython.core.display.HTML object>"
            ],
            "text/html": [
              "\n",
              "     <input type=\"file\" id=\"files-06c38988-fedf-465e-a88e-78fce6745fed\" name=\"files[]\" multiple disabled\n",
              "        style=\"border:none\" />\n",
              "     <output id=\"result-06c38988-fedf-465e-a88e-78fce6745fed\">\n",
              "      Upload widget is only available when the cell has been executed in the\n",
              "      current browser session. Please rerun this cell to enable.\n",
              "      </output>\n",
              "      <script>// Copyright 2017 Google LLC\n",
              "//\n",
              "// Licensed under the Apache License, Version 2.0 (the \"License\");\n",
              "// you may not use this file except in compliance with the License.\n",
              "// You may obtain a copy of the License at\n",
              "//\n",
              "//      http://www.apache.org/licenses/LICENSE-2.0\n",
              "//\n",
              "// Unless required by applicable law or agreed to in writing, software\n",
              "// distributed under the License is distributed on an \"AS IS\" BASIS,\n",
              "// WITHOUT WARRANTIES OR CONDITIONS OF ANY KIND, either express or implied.\n",
              "// See the License for the specific language governing permissions and\n",
              "// limitations under the License.\n",
              "\n",
              "/**\n",
              " * @fileoverview Helpers for google.colab Python module.\n",
              " */\n",
              "(function(scope) {\n",
              "function span(text, styleAttributes = {}) {\n",
              "  const element = document.createElement('span');\n",
              "  element.textContent = text;\n",
              "  for (const key of Object.keys(styleAttributes)) {\n",
              "    element.style[key] = styleAttributes[key];\n",
              "  }\n",
              "  return element;\n",
              "}\n",
              "\n",
              "// Max number of bytes which will be uploaded at a time.\n",
              "const MAX_PAYLOAD_SIZE = 100 * 1024;\n",
              "\n",
              "function _uploadFiles(inputId, outputId) {\n",
              "  const steps = uploadFilesStep(inputId, outputId);\n",
              "  const outputElement = document.getElementById(outputId);\n",
              "  // Cache steps on the outputElement to make it available for the next call\n",
              "  // to uploadFilesContinue from Python.\n",
              "  outputElement.steps = steps;\n",
              "\n",
              "  return _uploadFilesContinue(outputId);\n",
              "}\n",
              "\n",
              "// This is roughly an async generator (not supported in the browser yet),\n",
              "// where there are multiple asynchronous steps and the Python side is going\n",
              "// to poll for completion of each step.\n",
              "// This uses a Promise to block the python side on completion of each step,\n",
              "// then passes the result of the previous step as the input to the next step.\n",
              "function _uploadFilesContinue(outputId) {\n",
              "  const outputElement = document.getElementById(outputId);\n",
              "  const steps = outputElement.steps;\n",
              "\n",
              "  const next = steps.next(outputElement.lastPromiseValue);\n",
              "  return Promise.resolve(next.value.promise).then((value) => {\n",
              "    // Cache the last promise value to make it available to the next\n",
              "    // step of the generator.\n",
              "    outputElement.lastPromiseValue = value;\n",
              "    return next.value.response;\n",
              "  });\n",
              "}\n",
              "\n",
              "/**\n",
              " * Generator function which is called between each async step of the upload\n",
              " * process.\n",
              " * @param {string} inputId Element ID of the input file picker element.\n",
              " * @param {string} outputId Element ID of the output display.\n",
              " * @return {!Iterable<!Object>} Iterable of next steps.\n",
              " */\n",
              "function* uploadFilesStep(inputId, outputId) {\n",
              "  const inputElement = document.getElementById(inputId);\n",
              "  inputElement.disabled = false;\n",
              "\n",
              "  const outputElement = document.getElementById(outputId);\n",
              "  outputElement.innerHTML = '';\n",
              "\n",
              "  const pickedPromise = new Promise((resolve) => {\n",
              "    inputElement.addEventListener('change', (e) => {\n",
              "      resolve(e.target.files);\n",
              "    });\n",
              "  });\n",
              "\n",
              "  const cancel = document.createElement('button');\n",
              "  inputElement.parentElement.appendChild(cancel);\n",
              "  cancel.textContent = 'Cancel upload';\n",
              "  const cancelPromise = new Promise((resolve) => {\n",
              "    cancel.onclick = () => {\n",
              "      resolve(null);\n",
              "    };\n",
              "  });\n",
              "\n",
              "  // Wait for the user to pick the files.\n",
              "  const files = yield {\n",
              "    promise: Promise.race([pickedPromise, cancelPromise]),\n",
              "    response: {\n",
              "      action: 'starting',\n",
              "    }\n",
              "  };\n",
              "\n",
              "  cancel.remove();\n",
              "\n",
              "  // Disable the input element since further picks are not allowed.\n",
              "  inputElement.disabled = true;\n",
              "\n",
              "  if (!files) {\n",
              "    return {\n",
              "      response: {\n",
              "        action: 'complete',\n",
              "      }\n",
              "    };\n",
              "  }\n",
              "\n",
              "  for (const file of files) {\n",
              "    const li = document.createElement('li');\n",
              "    li.append(span(file.name, {fontWeight: 'bold'}));\n",
              "    li.append(span(\n",
              "        `(${file.type || 'n/a'}) - ${file.size} bytes, ` +\n",
              "        `last modified: ${\n",
              "            file.lastModifiedDate ? file.lastModifiedDate.toLocaleDateString() :\n",
              "                                    'n/a'} - `));\n",
              "    const percent = span('0% done');\n",
              "    li.appendChild(percent);\n",
              "\n",
              "    outputElement.appendChild(li);\n",
              "\n",
              "    const fileDataPromise = new Promise((resolve) => {\n",
              "      const reader = new FileReader();\n",
              "      reader.onload = (e) => {\n",
              "        resolve(e.target.result);\n",
              "      };\n",
              "      reader.readAsArrayBuffer(file);\n",
              "    });\n",
              "    // Wait for the data to be ready.\n",
              "    let fileData = yield {\n",
              "      promise: fileDataPromise,\n",
              "      response: {\n",
              "        action: 'continue',\n",
              "      }\n",
              "    };\n",
              "\n",
              "    // Use a chunked sending to avoid message size limits. See b/62115660.\n",
              "    let position = 0;\n",
              "    do {\n",
              "      const length = Math.min(fileData.byteLength - position, MAX_PAYLOAD_SIZE);\n",
              "      const chunk = new Uint8Array(fileData, position, length);\n",
              "      position += length;\n",
              "\n",
              "      const base64 = btoa(String.fromCharCode.apply(null, chunk));\n",
              "      yield {\n",
              "        response: {\n",
              "          action: 'append',\n",
              "          file: file.name,\n",
              "          data: base64,\n",
              "        },\n",
              "      };\n",
              "\n",
              "      let percentDone = fileData.byteLength === 0 ?\n",
              "          100 :\n",
              "          Math.round((position / fileData.byteLength) * 100);\n",
              "      percent.textContent = `${percentDone}% done`;\n",
              "\n",
              "    } while (position < fileData.byteLength);\n",
              "  }\n",
              "\n",
              "  // All done.\n",
              "  yield {\n",
              "    response: {\n",
              "      action: 'complete',\n",
              "    }\n",
              "  };\n",
              "}\n",
              "\n",
              "scope.google = scope.google || {};\n",
              "scope.google.colab = scope.google.colab || {};\n",
              "scope.google.colab._files = {\n",
              "  _uploadFiles,\n",
              "  _uploadFilesContinue,\n",
              "};\n",
              "})(self);\n",
              "</script> "
            ]
          },
          "metadata": {}
        },
        {
          "output_type": "stream",
          "name": "stdout",
          "text": [
            "Saving product_data_2_dd.csv to product_data_2_dd (1).csv\n"
          ]
        }
      ],
      "source": [
        "import google.colab.files as files\n",
        "\n",
        "# Upload the file.\n",
        "uploaded = files.upload()\n",
        "# Getting the name of the file\n",
        "filename = next(iter(uploaded))"
      ]
    },
    {
      "cell_type": "code",
      "execution_count": 104,
      "metadata": {
        "id": "Ec3efs2bsMNu",
        "colab": {
          "base_uri": "https://localhost:8080/"
        },
        "outputId": "63826196-60b6-488b-bc53-bf9db1897478"
      },
      "outputs": [
        {
          "output_type": "stream",
          "name": "stdout",
          "text": [
            "product_data_2_dd (1).csv\n",
            "[{'Sl_no': '1', 'Product_name': 'Chalk', 'Stock': '6', 'Reorder_level': '10', 'Order': '4', 'Keywords': 'School Office Writing'}, {'Sl_no': '2', 'Product_name': 'papers', 'Stock': '4', 'Reorder_level': '15', 'Order': '11', 'Keywords': 'School Office Writing Students white education'}, {'Sl_no': '3', 'Product_name': 'Permanent Marker [black]', 'Stock': '10', 'Reorder_level': '10', 'Order': '0', 'Keywords': 'School Office Writing Students black education permanent boards'}, {'Sl_no': '4', 'Product_name': 'Pens [blue]', 'Stock': '10', 'Reorder_level': '20', 'Order': '10', 'Keywords': 'pens office students writing '}, {'Sl_no': '5', 'Product_name': 'Pens [black]', 'Stock': '15', 'Reorder_level': '20', 'Order': '5', 'Keywords': 'pens office students writing '}, {'Sl_no': '6', 'Product_name': 'Pens [red]', 'Stock': '15', 'Reorder_level': '20', 'Order': '5', 'Keywords': 'pens office students writing '}, {'Sl_no': '7', 'Product_name': 'Binderclips [large]', 'Stock': '12', 'Reorder_level': '15', 'Order': '3', 'Keywords': 'School Office binder clips binderclips'}, {'Sl_no': '8', 'Product_name': 'Files', 'Stock': '20', 'Reorder_level': '35', 'Order': '15', 'Keywords': 'School Office papers'}, {'Sl_no': '9', 'Product_name': 'Clear Tape [1in]', 'Stock': '15', 'Reorder_level': '25', 'Order': '10', 'Keywords': 'School Office Writing tapes'}, {'Sl_no': '10', 'Product_name': 'POS rolls', 'Stock': '25', 'Reorder_level': '35', 'Order': '10', 'Keywords': 'Office POS rolls '}, {'Sl_no': '11', 'Product_name': 'Calculators', 'Stock': '5', 'Reorder_level': '10', 'Order': '5', 'Keywords': 'School Office students calculate numbers'}, {'Sl_no': '12', 'Product_name': 'Black ink', 'Stock': '5', 'Reorder_level': '10', 'Order': '5', 'Keywords': 'School Office papers ink writing colour'}, {'Sl_no': '13', 'Product_name': 'Blue ink', 'Stock': '6', 'Reorder_level': '8', 'Order': '2', 'Keywords': 'School Office papers ink writing colour'}, {'Sl_no': '14', 'Product_name': 'Pink ink', 'Stock': '5', 'Reorder_level': '8', 'Order': '3', 'Keywords': 'School Office papers ink writing colour'}, {'Sl_no': '15', 'Product_name': 'Yellow ink', 'Stock': '7', 'Reorder_level': '8', 'Order': '1', 'Keywords': 'School Office papers ink writing colour'}, {'Sl_no': '16', 'Product_name': 'Exam pads [large]', 'Stock': '20', 'Reorder_level': '30', 'Order': '10', 'Keywords': 'School Office papers exam pads kids'}]\n"
          ]
        }
      ],
      "source": [
        "# importing required modules\n",
        "import csv\n",
        "import time\n",
        "\n",
        "lst =  []\n",
        "\n",
        "# reading and printing the data in upploaded file\n",
        "with open(filename) as f:\n",
        "    reader = csv.DictReader(f)\n",
        "\n",
        "    for row in reader:\n",
        "        #print(row)\n",
        "        lst.append(row)\n",
        "\n",
        "print(filename)\n",
        "print(lst)"
      ]
    },
    {
      "cell_type": "code",
      "source": [
        "# This method seems to me the best fit to display all data\n",
        "\n",
        "# importing the modules\n",
        "from tabulate import tabulate\n",
        "import pandas as pd\n",
        "\n",
        "# reading data\n",
        "data = pd.read_csv(filename)\n",
        "\n",
        "# displaying the DataFrame p\n",
        "print(tabulate(data[['Sl_no', 'Product_name']], headers = 'keys', tablefmt = 'psql'))"
      ],
      "metadata": {
        "colab": {
          "base_uri": "https://localhost:8080/"
        },
        "id": "F3BIrMBzkTvU",
        "outputId": "b8fd0475-5c9e-429b-b613-a377ef0a9b62"
      },
      "execution_count": 105,
      "outputs": [
        {
          "output_type": "stream",
          "name": "stdout",
          "text": [
            "+----+---------+--------------------------+\n",
            "|    |   Sl_no | Product_name             |\n",
            "|----+---------+--------------------------|\n",
            "|  0 |       1 | Chalk                    |\n",
            "|  1 |       2 | papers                   |\n",
            "|  2 |       3 | Permanent Marker [black] |\n",
            "|  3 |       4 | Pens [blue]              |\n",
            "|  4 |       5 | Pens [black]             |\n",
            "|  5 |       6 | Pens [red]               |\n",
            "|  6 |       7 | Binderclips [large]      |\n",
            "|  7 |       8 | Files                    |\n",
            "|  8 |       9 | Clear Tape [1in]         |\n",
            "|  9 |      10 | POS rolls                |\n",
            "| 10 |      11 | Calculators              |\n",
            "| 11 |      12 | Black ink                |\n",
            "| 12 |      13 | Blue ink                 |\n",
            "| 13 |      14 | Pink ink                 |\n",
            "| 14 |      15 | Yellow ink               |\n",
            "| 15 |      16 | Exam pads [large]        |\n",
            "+----+---------+--------------------------+\n"
          ]
        }
      ]
    },
    {
      "cell_type": "markdown",
      "source": [
        "#**#2 Defining Functionalities**\n",
        "\n",
        "- Main Menu----------------------------------------------------------------------------------------------------`main_menu()`\n",
        "- listing all products by name:-------------------------------------------------------------------------`list_o_prod()`\n",
        "- all details of all products:------------------------------------------------------------------------------`print_details()`\n",
        "- search for existance of a specific product:---------------------------------------------------`search_prod()`\n",
        "- view items from a specific category:------------------------------------------------------------`search_catg()`\n",
        "- add new product:-------------------------------------------------------------------------------------------`add_prod()`\n",
        "-delete existing product:---------------------------------------------------------------------------------`del_prod()`\n",
        "- view a specific attribute of a product:-----------------------------------------------------------`view_atts()`\n",
        "- uptate numbers in any attribute:-------------------------------------------------------------------`update_att()` <br/>\n",
        "[these attributes are: serial number, reorder level (ROL), orders, requirements, category etc]\n",
        "- edit stock of products:----------------------------------------------------------------------------------`edit_stock()`\n",
        "- list products that need to be ordered(requirements):-----------------------------------`list_req()`\n",
        "- send request to order products from seller:-------------------------------------------------`order_prod()`\n",
        "- exit the program and ave data:---------------------------------------------------------------------`goodnight()`\n"
      ],
      "metadata": {
        "id": "okBQA3ykruVj"
      }
    },
    {
      "cell_type": "markdown",
      "source": [
        "note: <br/>\n",
        "- displaying the attributes is challenging\n",
        "- to display or make edits to stock or other things continuiously, user can give in items as list whcich me be processed to be split into chunks of info for every attribute which can be used then to make changes, inreasing user efficiency\n",
        "- add the save file functionality while exiting the program\n",
        "- shoud `upload file` be added? not sure\n",
        "- i wanna build something that would automatically remove all the spaces and cnvt the string data to lowercase fro easy search\n",
        "- i wanna build a smart module that would search things even if the letters are tatteres, it would give the closest matches of the item"
      ],
      "metadata": {
        "id": "GnIMZGuAzBYu"
      }
    },
    {
      "cell_type": "code",
      "execution_count": 106,
      "metadata": {
        "id": "WbEFeJc5FXz6"
      },
      "outputs": [],
      "source": [
        "# Good To Go\n",
        "\n",
        "def list_o_prod():\n",
        "\n",
        "  print()\n",
        "  data = pd.read_csv(filename)\n",
        "\n",
        "  # displaying the DataFrame using tabulate module imported earlier\n",
        "  print(tabulate(data[['Sl_no', 'Product_name']], headers = 'keys', tablefmt = 'psql'))\n",
        "\n",
        "\n",
        "  #main_menu()\n",
        "\n",
        "#list_o_prod()"
      ]
    },
    {
      "cell_type": "code",
      "source": [
        "# Good To Go\n",
        "\n",
        "def print_details():\n",
        "  print()\n",
        "  headers = ['Sl_no', 'Product_name', 'Stock', 'Reorder_level', 'Order']\n",
        "  print(tabulate(data[headers], headers = 'keys', tablefmt = 'psql'))\n",
        "  print()\n",
        "\n",
        "#print_details()"
      ],
      "metadata": {
        "id": "VBNQFuugmHBj"
      },
      "execution_count": null,
      "outputs": []
    },
    {
      "cell_type": "code",
      "source": [
        "# Good To Go\n",
        "\n",
        "# searching for the existence of a product\n",
        "def search_prod():\n",
        "  print()\n",
        "  prod = input('Enter Product Name or Key to search: ').lower()\n",
        "  found_products = [] # in case multiple products contain the same name in them\n",
        "\n",
        "  for product in lst:\n",
        "    name = product['Product_name'].lower()\n",
        "    keys = product['Keywords'].lower()\n",
        "\n",
        "    # putting the required condition\n",
        "    if prod in name or prod in keys:\n",
        "\n",
        "      # creating a temp dict for deleting the unwanted column for display\n",
        "      product_revised = dict(product)\n",
        "      del product_revised['Keywords']\n",
        "\n",
        "      # aopending the dict items in the final search results list\n",
        "      found_products.append(product_revised)\n",
        "\n",
        "  # displaying the final search results\n",
        "  if found_products:\n",
        "    print(f'Product(s) with the key {prod} found!')\n",
        "    print()\n",
        "    print(tabulate(found_products, headers = 'keys', tablefmt = 'psql'))\n",
        "  else:\n",
        "    print(f'No product with the name {prod} found!')\n",
        "\n",
        "search_prod()"
      ],
      "metadata": {
        "colab": {
          "base_uri": "https://localhost:8080/"
        },
        "id": "ulwLmKje8U0C",
        "outputId": "fe66c810-a4d6-4e22-a8c3-11a746bef268"
      },
      "execution_count": 112,
      "outputs": [
        {
          "output_type": "stream",
          "name": "stdout",
          "text": [
            "\n",
            "Enter Product Name or Key to search: office\n",
            "Product(s) with the key office found!\n",
            "\n",
            "+---------+--------------------------+---------+-----------------+---------+\n",
            "|   Sl_no | Product_name             |   Stock |   Reorder_level |   Order |\n",
            "|---------+--------------------------+---------+-----------------+---------|\n",
            "|       1 | Chalk                    |       6 |              10 |       4 |\n",
            "|       2 | papers                   |       4 |              15 |      11 |\n",
            "|       3 | Permanent Marker [black] |      10 |              10 |       0 |\n",
            "|       4 | Pens [blue]              |      10 |              20 |      10 |\n",
            "|       5 | Pens [black]             |      15 |              20 |       5 |\n",
            "|       6 | Pens [red]               |      15 |              20 |       5 |\n",
            "|       7 | Binderclips [large]      |      12 |              15 |       3 |\n",
            "|       8 | Files                    |      20 |              35 |      15 |\n",
            "|       9 | Clear Tape [1in]         |      15 |              25 |      10 |\n",
            "|      10 | POS rolls                |      25 |              35 |      10 |\n",
            "|      11 | Calculators              |       5 |              10 |       5 |\n",
            "|      12 | Black ink                |       5 |              10 |       5 |\n",
            "|      13 | Blue ink                 |       6 |               8 |       2 |\n",
            "|      14 | Pink ink                 |       5 |               8 |       3 |\n",
            "|      15 | Yellow ink               |       7 |               8 |       1 |\n",
            "|      16 | Exam pads [large]        |      20 |              30 |      10 |\n",
            "+---------+--------------------------+---------+-----------------+---------+\n"
          ]
        }
      ]
    },
    {
      "cell_type": "code",
      "execution_count": null,
      "metadata": {
        "id": "C_Xt9RJjt9ZL"
      },
      "outputs": [],
      "source": [
        "def view_rol():\n",
        "  print('=========================================================')\n",
        "\n",
        "  print('Reorder Level set for all the products is as following: ' )\n",
        "\n",
        "  for i in lst:\n",
        "    print(i['Serial num'], '.', i['Product_name'], ':', i['Reorder_level'])\n",
        "    print()\n",
        "\n",
        "  print('To edit the Reorder Level, press \\'R\\'; To return to the main menu, press \\'M\\' ; To exit the program press \\'X\\'')\n",
        "  key = input('enter choice').upper()\n",
        "  check(key)"
      ]
    },
    {
      "cell_type": "code",
      "execution_count": null,
      "metadata": {
        "id": "DCMGFAle59vN"
      },
      "outputs": [],
      "source": [
        "def edit_rol():\n",
        "  print('=========================================================')\n",
        "\n",
        "  print('Please select a serial number to edit its Reorder Level :')\n",
        "\n",
        "  sl_no =[]\n",
        "  for i in lst :\n",
        "    sl_no.append(i['Serial num'])\n",
        "\n",
        "  ch = input('Enter Serial Number : ')\n",
        "  while ch not in sl_no:\n",
        "    print('please enter a valid choice : ')\n",
        "    ch = input('Enter Serial Number : ')\n",
        "\n",
        "  for i in lst:\n",
        "    if ch == i['Serial num']:\n",
        "      print('initial Reorder Level of the product ', i['Product_name'], 'is ', i['Reorder_level'], ';', 'Stock available: ', i['Stock'])\n",
        "      stock = i['Stock']\n",
        "      new_rol = input('please enter the new value for the Reorder level of this product: ')\n",
        "\n",
        "      i['Reorder_level'] = new_rol\n",
        "      i['Order'] = str(int(new_rol)-int(stock))\n",
        "\n",
        "      print('-------updating data-------')\n",
        "      time.sleep(1)\n",
        "      print('new Reorder Level of the product ', i['Product_name'], 'is ', i['Reorder_level'], ';', 'Stock available: ', i['Stock'], ';','new order value: ', i['Order'])\n",
        "\n",
        "      print('To change the ROL of any other product, press \\'R\\'; To view ROL of all products, press \\'Q\\'; To return to the main menu, press \\'M\\'; To exit the program, press \\'X\\'')\n",
        "      key = input('Enter choice: ').upper()\n",
        "      check(key)\n",
        "      break\n",
        "\n",
        "  else:\n",
        "    print('please enter a valid choice: ')\n",
        "    print('To change the ROL of any product, press \\'R\\'; To view ROL of all products, press \\'Q\\'; To return to the main menu, press \\'M\\'; To exit the program, press \\'X\\'')\n",
        "    key = input('Enter choice: ').upper()\n",
        "    check(key)\n",
        "\n",
        "#edit_rol()"
      ]
    },
    {
      "cell_type": "code",
      "execution_count": null,
      "metadata": {
        "id": "x4Cvz3_81Eb_"
      },
      "outputs": [],
      "source": [
        "def add_product():\n",
        "  print('=========================================================')\n",
        "\n",
        "  new_sl_no = str(len(lst)+1)\n",
        "\n",
        "  new_product_name = input('Enter the name of new product : ')\n",
        "  new_stock = input('Enter the amount of product available : ')\n",
        "  new_rol = input('Enter the minimum Reorder level : ')\n",
        "  new_order = str(int(new_rol) - int(new_stock))\n",
        "\n",
        "  new_dict = {'Serial num' : new_sl_no, 'Product_name' : new_product_name, 'Stock' : new_stock, 'Reorder_level' : new_rol, 'Order' : new_order }\n",
        "\n",
        "  lst.append(new_dict)\n",
        "\n",
        "  print('-------updating data-------')\n",
        "  time.sleep(1)\n",
        "\n",
        "  list_o_products()\n",
        "\n",
        "  print('To add another new product, press \\'P\\'. or to return to the Main Menu, press \\'M\\'')\n",
        "  key = input('enter choice').upper()\n",
        "  check(key)\n",
        "\n",
        "#add_product()"
      ]
    },
    {
      "cell_type": "code",
      "execution_count": null,
      "metadata": {
        "id": "gGHJj5nV8A8t"
      },
      "outputs": [],
      "source": [
        "def view_stock():\n",
        "  print('=========================================================')\n",
        "\n",
        "  print('Available Stock for all the products is as following: ' )\n",
        "\n",
        "  for i in lst:\n",
        "    print(i['Serial num'], '.', i['Product_name'], ':', i['Stock'])\n",
        "\n",
        "  print('To edit the stock, press \\'E\\'; To return to the main menu, press \\'M\\' ; To exit the program press \\'X\\'')\n",
        "  key = input('enter choice').upper()\n",
        "  check(key)"
      ]
    },
    {
      "cell_type": "code",
      "execution_count": null,
      "metadata": {
        "id": "1lXbj2rVCjh6"
      },
      "outputs": [],
      "source": [
        "def Choice():\n",
        "\n",
        "  print('=========================================================')\n",
        "  print('To add amount to the stock, press \\'1\\'')\n",
        "  print('To deduct amount from the stock, press \\'2\\'')\n",
        "  ch = int(input('Enter choice : '))\n",
        "\n",
        "  if ch == 1:\n",
        "    sign = 1\n",
        "  elif ch == 2:\n",
        "    sign = -1\n",
        "  else:\n",
        "    Choice()\n",
        "\n",
        "  return sign"
      ]
    },
    {
      "cell_type": "code",
      "execution_count": null,
      "metadata": {
        "id": "VV663-mw872H"
      },
      "outputs": [],
      "source": [
        "def edit_stock():\n",
        "  print('=========================================================')\n",
        "\n",
        "  print('From the above List of Products, please select a Srial Number to edit : ')\n",
        "\n",
        "  sl_no =[]\n",
        "  for i in lst :\n",
        "    sl_no.append(i['Serial num'])\n",
        "\n",
        "  no = input('Enter Serial Number : ')\n",
        "  while no not in sl_no:\n",
        "    print('please enter a valid choice : ')\n",
        "    no = input('Enter Serial Number : ')\n",
        "\n",
        "  print('The product\\'s details are as follows: ')\n",
        "  print_details(no)\n",
        "\n",
        "  sign = Choice()\n",
        "\n",
        "  for i in lst:\n",
        "    if i['Serial num'] == no:\n",
        "      stock = int(input('Enter number of products to be added or reduced : '))*sign\n",
        "      i['Stock'] = str(int(i['Stock']) + stock)\n",
        "      i['Order'] = str(int(i['Reorder_level']) - int(i['Stock']))\n",
        "\n",
        "      print('-------updating data-------')\n",
        "      time.sleep(1)\n",
        "\n",
        "      print('New data for this Product : ')\n",
        "      print_details(no)\n",
        "\n",
        "  print('To edit the stock of any other product, press \\'V\\'; To return to the main menu, press \\'M\\' ; To exit the program press \\'X\\'')\n",
        "  key = input('enter choice').upper()\n",
        "  check(key)\n",
        "\n",
        "#edit_stock()"
      ]
    },
    {
      "cell_type": "code",
      "execution_count": null,
      "metadata": {
        "id": "e2Oaf89S36ne"
      },
      "outputs": [],
      "source": [
        "def view_order():\n",
        "  print('=========================================================')\n",
        "\n",
        "  print('Quantity for order for all the products is as following: ' )\n",
        "\n",
        "  for i in lst:\n",
        "    print(i['Serial num'], '.', i['Product_name'], ':', i['Order'])\n",
        "    print()\n"
      ]
    },
    {
      "cell_type": "code",
      "execution_count": null,
      "metadata": {
        "id": "trFwRHl6eDtg"
      },
      "outputs": [],
      "source": [
        "msg =''\n",
        "\n",
        "def Msg(no, msg = msg):\n",
        "  for i in lst:\n",
        "    if no == 'ALL':\n",
        "      name = i['Product_name']\n",
        "      order_quantity = i['Order']\n",
        "      if order_quantity != '0' :\n",
        "        i['Stock'] = str(int(i['Stock']) + int(i['Order']))\n",
        "        i['Order'] = '0'\n",
        "\n",
        "        order_msg = f'''\n",
        "    Product Name : {name};        Quantity : {order_quantity}\n",
        "      '''\n",
        "\n",
        "        msg += order_msg\n",
        "        print(msg)\n",
        "\n",
        "    else:\n",
        "      if i['Serial num'] == no:\n",
        "        name = i['Product_name']\n",
        "        order_quantity = i['Order']\n",
        "\n",
        "        order_msg = f'''\n",
        "     Product Name : {name};        Quantity : {order_quantity}\n",
        "        '''\n",
        "\n",
        "        # if order_quantity != '0' :\n",
        "        i['Stock'] = str(int(i['Stock']) + int(i['Order']))\n",
        "        i['Order'] = '0'\n",
        "\n",
        "        msg += order_msg\n",
        "        print(msg)\n",
        "\n",
        "        print('To Place order for another product, press \\' Y \\', otherwise press \\'n\\'')\n",
        "        ch = input('enter choice ')\n",
        "        ch = ch.upper()\n",
        "\n",
        "        if ch == 'Y':\n",
        "          serial_o = input('enter another serial number: ')\n",
        "          m = Msg(serial_o)\n",
        "          return(msg+m)\n",
        "        else:\n",
        "          return msg\n"
      ]
    },
    {
      "cell_type": "code",
      "execution_count": null,
      "metadata": {
        "id": "iI9dobgRA966"
      },
      "outputs": [],
      "source": [
        "def Choice2(var, mes):\n",
        "  ch = input('Would you like to make any changes? [Y/N]').upper()\n",
        "  if ch == 'Y':\n",
        "    var = input(mes)\n",
        "    return var"
      ]
    },
    {
      "cell_type": "code",
      "execution_count": null,
      "metadata": {
        "id": "08zl1lS5IQzk"
      },
      "outputs": [],
      "source": [
        "import smtplib\n",
        "\n",
        "def place_order():\n",
        "  view_order()\n",
        "\n",
        "  print('=========================================================')\n",
        "\n",
        "  print('Please select the serial numbers of the product you would like to place order for : ')\n",
        "  print('To place order for all the products, please type in \\' ALL \\'')\n",
        "\n",
        "  sl_no =['ALL']\n",
        "  for i in lst :\n",
        "    sl_no.append(i['Serial num'])\n",
        "\n",
        "  no = input('Enter Serial Number or To send order for all products in \\' ALL \\' ').upper()\n",
        "  while no not in sl_no:\n",
        "    print('please enter a valid choice ')\n",
        "    no = input('Enter Serial Number ☻ : ').upper()\n",
        "\n",
        "  order_message = Msg(no)\n",
        "\n",
        "  senders_add = 'dhritid1807@gmail.com'\n",
        "  print('Your address : ', senders_add)\n",
        "\n",
        "  senders_add = Choice2(senders_add,'Enter Your Email')\n",
        "\n",
        "  senders_pass = 'znzolwpesucbhnkt'\n",
        "  print('Your 16 digit google application password : ', senders_pass)\n",
        "\n",
        "  senders2 = Choice2(senders_pass, 'Enter your 16-digit google application password')\n",
        "\n",
        "  recievers_add = 'dh.09.stars@gmail.com'\n",
        "  print('Seller\\'s address : ', recievers_add)\n",
        "  recievers_add = Choice2(recievers_add, 'Enter the Seller\\'s address : ')\n",
        "\n",
        "  message = f'''\\\n",
        "  Subject : Stationery Order\n",
        "\n",
        "  Dear Madam,\n",
        "\n",
        "  With regards to our previous conversations, i would like to place an order for quite a few stationery items for our office.\n",
        "\n",
        "  The details of the required items are as follows :\n",
        "    {order_message}\n",
        "\n",
        "  We expect at the least a discount of 10 % on the wholesale prices of the items.\n",
        "  Our Company prefers to make the payment in cheque within 10 days after the delivery.\n",
        "\n",
        "  The goods must be delivered to :\n",
        "    Bharat Trading Co., Chawmukhapul, Opp. Imambara, Moradabad, UP [244001]\n",
        "\n",
        "  Contact Number : 94*******4\n",
        "\n",
        "  Please check that all the goods are as per the specifications and reach us within the span of 10 days.\n",
        "\n",
        "  Thank you for your considerations and we look forward to hearing from you soon\n",
        "\n",
        "  Kind regards,\n",
        "  Bharat Trading Company\n",
        "\n",
        "   '''\n",
        "  print(message)\n",
        "\n",
        "  s = smtplib.SMTP('smtp.gmail.com', 587)\n",
        "  print(65)\n",
        "  s.starttls()\n",
        "  print(67)\n",
        "  s.login('dhritid1807@gmail.com', senders_pass)\n",
        "  print(69)\n",
        "  s.sendmail('dhritid1807@gmail.com', recievers_add, message)\n",
        "  print(71)\n",
        "  s.quit()"
      ]
    },
    {
      "cell_type": "code",
      "execution_count": null,
      "metadata": {
        "id": "ME2wG02tj2A3"
      },
      "outputs": [],
      "source": [
        "def check(key):\n",
        "\n",
        "  if key == 'L':\n",
        "    list_o_products()\n",
        "    print('To return to the main menu, press \\'M\\' ; To exit the program press \\'X\\'')\n",
        "    key = input('enter choice').upper()\n",
        "    check(key)\n",
        "  elif key == 'S':\n",
        "    product_details()\n",
        "  elif key == 'V':\n",
        "    view_stock()\n",
        "  elif key == 'E':\n",
        "    edit_stock()\n",
        "  elif key == 'P':\n",
        "    add_product()\n",
        "  elif key == 'O':\n",
        "    view_order()\n",
        "  elif key == 'A':\n",
        "    place_order()\n",
        "  elif key == 'R':\n",
        "    edit_rol()\n",
        "  elif key == 'Q':\n",
        "    view_rol()\n",
        "  elif key == 'M':\n",
        "    main_menu()\n",
        "  elif key == 'X':\n",
        "    print('Thank you! We\\'ll see you next time, till then Adios Amigo!' )\n",
        "\n",
        "  elif key == '' or key == ' ':\n",
        "    print('please enter a valid choice')\n",
        "    key = ''\n",
        "    key = input('Enter your choice : ').upper()\n",
        "    check(key)\n",
        "\n",
        "  else :\n",
        "    print('please enter a valid choice')\n",
        "    key = ''\n",
        "    key = input('Enter your choice : ').upper()\n",
        "\n",
        "    check(key)"
      ]
    },
    {
      "cell_type": "code",
      "execution_count": null,
      "metadata": {
        "id": "Pq6n_ALRgB3Y"
      },
      "outputs": [],
      "source": [
        "def main_menu():\n",
        "  print('-----======KEY WORDS======-----')\n",
        "  print('To see the list of products----                       : L')\n",
        "  time.sleep(0.8)\n",
        "  print('To view the details of all products                   : S') # output 1\n",
        "  time.sleep(0.8)\n",
        "  print('To view and edit the stock-----                       : V') # output 2\n",
        "  time.sleep(0.8)\n",
        "  print('To add products----------------                       : P') # output 3\n",
        "  time.sleep(0.8)\n",
        "  print('To check Reorder level of all products and edit them  : Q') # output 4\n",
        "  time.sleep(1)\n",
        "  print('To check number of all products to be ordered         : O') # output 5\n",
        "  time.sleep(0.8)\n",
        "  print('To order the required products from the seller        : A') # output 5\n",
        "  time.sleep(0.8)\n",
        "  print('To exit the program------------                       : X') # output 6\n",
        "\n",
        "  print()\n",
        "  print('=========================================================')\n",
        "\n",
        "  global key\n",
        "  key = input('Enter your choice : ').upper()\n",
        "\n",
        "  check(key)"
      ]
    },
    {
      "cell_type": "code",
      "execution_count": null,
      "metadata": {
        "id": "7I6DDhnOhp7A",
        "colab": {
          "base_uri": "https://localhost:8080/"
        },
        "outputId": "b32c079e-0963-4c30-c65a-73b1049c064a"
      },
      "outputs": [
        {
          "output_type": "stream",
          "name": "stdout",
          "text": [
            "-----======KEY WORDS======-----\n",
            "To see the list of products----                       : L\n",
            "To view the details of all products                   : S\n",
            "To view and edit the stock-----                       : V\n",
            "To add products----------------                       : P\n",
            "To check Reorder level of all products and edit them  : Q\n",
            "To check number of all products to be ordered         : O\n",
            "To order the required products from the seller        : A\n",
            "To exit the program------------                       : X\n",
            "\n",
            "=========================================================\n",
            "\n",
            "=========================================================\n",
            "PRODUCT NAME\n",
            "1 . Chalk\n",
            "2 . papers\n",
            "3 . Permanent Marker [black]\n",
            "4 . Pens [blue]\n",
            "5 . Pens [black]\n",
            "6 . Binderclips [large]\n",
            "7 . Files\n",
            "8 . Clear Tape [1in]\n",
            "9 . POS rolls\n",
            "10 . Calculators\n",
            "11 . Black ink\n",
            "12 . Blue ink\n",
            "13 . Pink ink\n",
            "14 . Yellow ink\n",
            "=========================================================\n",
            "Printing details of all the products...\n",
            "1 . Chalk ;  available stock :  6 ;  Reoeder level :  10 ;  Requirement :  4\n",
            "2 . papers ;  available stock :  4 ;  Reoeder level :  15 ;  Requirement :  11\n",
            "3 . Permanent Marker [black] ;  available stock :  10 ;  Reoeder level :  10 ;  Requirement :  0\n",
            "4 . Pens [blue] ;  available stock :  10 ;  Reoeder level :  20 ;  Requirement :  10\n",
            "5 . Pens [black] ;  available stock :  15 ;  Reoeder level :  20 ;  Requirement :  5\n",
            "6 . Binderclips [large] ;  available stock :  12 ;  Reoeder level :  15 ;  Requirement :  3\n",
            "7 . Files ;  available stock :  20 ;  Reoeder level :  35 ;  Requirement :  15\n",
            "8 . Clear Tape [1in] ;  available stock :  15 ;  Reoeder level :  25 ;  Requirement :  10\n",
            "9 . POS rolls ;  available stock :  25 ;  Reoeder level :  35 ;  Requirement :  10\n",
            "10 . Calculators ;  available stock :  5 ;  Reoeder level :  10 ;  Requirement :  5\n",
            "11 . Black ink ;  available stock :  5 ;  Reoeder level :  10 ;  Requirement :  5\n",
            "12 . Blue ink ;  available stock :  6 ;  Reoeder level :  8 ;  Requirement :  2\n",
            "13 . Pink ink ;  available stock :  5 ;  Reoeder level :  8 ;  Requirement :  3\n",
            "14 . Yellow ink ;  available stock :  7 ;  Reoeder level :  8 ;  Requirement :  1\n",
            "To search again press .S. or to return to the Main Menu, press .M.\n",
            "enter choicex\n",
            "Thank you! We'll see you next time, till then Adios Amigo!\n"
          ]
        }
      ],
      "source": [
        "\n",
        "main_menu()\n",
        "# view_order()"
      ]
    }
  ],
  "metadata": {
    "colab": {
      "provenance": [],
      "authorship_tag": "ABX9TyO1vvTr17FLyw5l6jcyHqh2",
      "include_colab_link": true
    },
    "kernelspec": {
      "display_name": "Python 3",
      "name": "python3"
    },
    "language_info": {
      "name": "python"
    }
  },
  "nbformat": 4,
  "nbformat_minor": 0
}